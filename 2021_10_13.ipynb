{
  "nbformat": 4,
  "nbformat_minor": 0,
  "metadata": {
    "colab": {
      "name": "2021-10-13.ipynb",
      "provenance": [],
      "collapsed_sections": [],
      "include_colab_link": true
    },
    "kernelspec": {
      "name": "python3",
      "display_name": "Python 3"
    },
    "language_info": {
      "name": "python"
    }
  },
  "cells": [
    {
      "cell_type": "markdown",
      "metadata": {
        "id": "view-in-github",
        "colab_type": "text"
      },
      "source": [
        "<a href=\"https://colab.research.google.com/github/zera888/Data_Process_by_Tibame/blob/MachineLearning-100days/2021_10_13.ipynb\" target=\"_parent\"><img src=\"https://colab.research.google.com/assets/colab-badge.svg\" alt=\"Open In Colab\"/></a>"
      ]
    },
    {
      "cell_type": "code",
      "metadata": {
        "id": "Z6bT84WLG5ig"
      },
      "source": [
        "import requests,codecs\n",
        "from bs4 import BeautifulSoup\n",
        "\n",
        "r1=requests.get(\n",
        "  \"https://money.udn.com/rank/newest/1001/0/1\",\n",
        "  headers={\n",
        "    \"User-Agent\":\"Mozilla/5.0 (Windows NT 10.0; Win64; x64; rv:93.0) Gecko/20100101 Firefox/93.0\",\n",
        "    \"Cookie\":\"_fbp=fb.1.1633663623210.1882775856; _ga=GA1.2.1771640070.1633663623; __gads=ID=65d8959fc2d390af:T=1633663623:S=ALNI_MbC1UGBL22RONgv6cdY-GYys6viwQ; cto_bundle=-kdyol9YckVHNDlNeSUyRnlVb2ZPa2g3dmJwNktLTGUlMkZrTiUyRlRUVjlQQVhFV3lMeCUyRiUyRnklMkZsODJiVG4lMkY1alBEa0t0UFV5allYSmwlMkZVQ01NaVZTRDhSMU5RajNNbmp1NXBXUGtCJTJGejA4aUhxYnRsTmhNYmJyUzhUeVlFQ250V0pGc0wyJTJGaGsw; __asc=1b577b2717c7736b87ed750edca; __auc=1b577b2717c7736b87ed750edca; meter_1=1; meter_7=1; _gid=GA1.2.1808153399.1634087648; _gat_UA-19210365-3=1; _gat_UA-19660006-1=1; gliaplayer_ssid=ded47c80-2bc2-11ec-9e7e-cbdcd7321766; _gliaplayer_user_info={%22city%22:%22suginami%20city%22%2C%22uid%22:%22defdfd80-2bc2-11ec-9e7e-cbdcd7321766%22%2C%22country%22:%22TW%22%2C%22region%22:%2213%22%2C%22source%22:%22CF%22%2C%22latlong%22:%2235.699470%2C139.635520%22%2C%22ip%22:%22111.243.51.55%22}; _pbjs_userid_consent_data=3524755945110770\"\n",
        "  }\n",
        ")\n",
        "b1=BeautifulSoup(r1.text,\"html.parser\")\n",
        "fn=0\n",
        "for b2 in b1.find_all(\"tr\",{\"style\":\"table-row\"}):\n",
        "  print(\n",
        "    b2.find(\"td\",{\"align\":\"right\"}).text,\n",
        "    b2.find(\"a\").attrs[\"href\"],\n",
        "    b2.find(\"a\").text\n",
        "  )\n",
        "  r2=requests.get(\n",
        "    b2.find(\"a\").attrs[\"href\"],\n",
        "    headers={\n",
        "      \"User-Agent\":\"Mozilla/5.0 (Windows NT 10.0; Win64; x64; rv:93.0) Gecko/20100101 Firefox/93.0\",\n",
        "      \"Cookie\":\"_fbp=fb.1.1633663623210.1882775856; _ga=GA1.2.1771640070.1633663623; __gads=ID=65d8959fc2d390af:T=1633663623:S=ALNI_MbC1UGBL22RONgv6cdY-GYys6viwQ; cto_bundle=-kdyol9YckVHNDlNeSUyRnlVb2ZPa2g3dmJwNktLTGUlMkZrTiUyRlRUVjlQQVhFV3lMeCUyRiUyRnklMkZsODJiVG4lMkY1alBEa0t0UFV5allYSmwlMkZVQ01NaVZTRDhSMU5RajNNbmp1NXBXUGtCJTJGejA4aUhxYnRsTmhNYmJyUzhUeVlFQ250V0pGc0wyJTJGaGsw; __asc=1b577b2717c7736b87ed750edca; __auc=1b577b2717c7736b87ed750edca; meter_1=1; meter_7=1; _gid=GA1.2.1808153399.1634087648; _gat_UA-19210365-3=1; _gat_UA-19660006-1=1; gliaplayer_ssid=ded47c80-2bc2-11ec-9e7e-cbdcd7321766; _gliaplayer_user_info={%22city%22:%22suginami%20city%22%2C%22uid%22:%22defdfd80-2bc2-11ec-9e7e-cbdcd7321766%22%2C%22country%22:%22TW%22%2C%22region%22:%2213%22%2C%22source%22:%22CF%22%2C%22latlong%22:%2235.699470%2C139.635520%22%2C%22ip%22:%22111.243.51.55%22}; _pbjs_userid_consent_data=3524755945110770\"\n",
        "    }\n",
        "  )\n",
        "  b3=BeautifulSoup(r2.text,\"html.parser\")\n",
        "  fn+=1\n",
        "  with codecs.open(\"news/\"+str(fn)+\".txt\",\"w\",\"utf-8\") as f:\n",
        "    for b4 in b3.find(\"div\",{\"id\":\"article_body\"}).find_all(\"p\"):\n",
        "      f.write(b4.text)\n",
        "  \n",
        "\n"
      ],
      "execution_count": null,
      "outputs": []
    },
    {
      "cell_type": "code",
      "metadata": {
        "id": "NKHQX0y9x5tJ"
      },
      "source": [
        "!rm -rf news"
      ],
      "execution_count": null,
      "outputs": []
    },
    {
      "cell_type": "code",
      "metadata": {
        "id": "lGopQPrwe4QF"
      },
      "source": [
        "import requests\n",
        "from bs4 import BeautifulSoup\n",
        "\n",
        "r1 = requests.get(\n",
        "    \"https://www.cdc.gov.tw/Disease/Index\",\n",
        "    headers={\n",
        "        \"User-Agent\":\"Mozilla/5.0 (Windows NT 6.1; Win64; x64; rv:93.0) Gecko/20100101 Firefox/93.0\",\n",
        "        \"Cookie\":\"_ga=GA1.3.1216450201.1633488665; __RequestVerificationToken=AIS7O2fs6ao3-tAB-kPSUVRJ5YyuLi14ya_Yjx1DnBUdPNFmzqA_ZlP13Jidn_BDORDEJ1YPWiDK6r2xCzX3MF7PJSvnRTW6NUkGsXcMpkc1; _gid=GA1.3.100459636.1634089373\",\n",
        "        \"Accept\":\"text/html,application/xhtml+xml,application/xml;q=0.9,image/avif,image/webp,*/*;q=0.8\"\n",
        "\n",
        "    }    \n",
        ")\n",
        "\n",
        "b1 = BeautifulSoup(r1.text,\"html.parser\")\n",
        "for b2 in b1.find_all(\"ul\",{\"class\":\"infectious_disease_ul\"}):\n",
        "  for b3 in b2.find_all(\"a\"):\n",
        "    print(b3.text)\n"
      ],
      "execution_count": null,
      "outputs": []
    },
    {
      "cell_type": "code",
      "metadata": {
        "id": "rsXQ9mNxf_CO"
      },
      "source": [
        "import requests\n",
        "from bs4 import BeautifulSoup\n",
        " \n",
        "r1=requests.get('https://money.udn.com/money/breaknews/1001',\n",
        "  headers={\n",
        "    'User-Agent':'Mozilla/5.0 (Windows NT 10.0; Win64; x64; rv:93.0) Gecko/20100101 Firefox/93.0',\n",
        "    'Cookie':'__asc=99e2e49f17c77390646a919a3c6; __auc=99e2e49f17c77390646a919a3c6; meter_1=1; meter_7=1; _ga=GA1.2.1851752125.1634087800; _gid=GA1.2.605486066.1634087800; _fbp=fb.1.1634087801533.104720758; __gads=ID=0d8340d2b4c30496:T=1634087802:S=ALNI_MbNgcHB65gGhA0-KYSTT1gElJdcjg; gliaplayer_ssid=3ca5f910-2bc3-11ec-983a-e7e787fbfb32; _gliaplayer_user_info={%22city%22:%22suginami%20city%22%2C%22uid%22:%223ca90650-2bc3-11ec-983a-e7e787fbfb32%22%2C%22country%22:%22TW%22%2C%22region%22:%2213%22%2C%22source%22:%22CF%22%2C%22latlong%22:%2235.699470%2C139.635520%22%2C%22ip%22:%22114.45.97.233%22}; _pbjs_userid_consent_data=3524755945110770; csrf_cookie_name=05b769addb90c7c6f22bdd63b0c59d23; meter_articleIds={\"5812518\":1}; meter_expires=Wed, 20 Oct 2021 01:51:42 GMT; meter_day_read_pages={\"20211013\":1}; meter_limit_day7=1; meter_limit_day1=1; disArtId=5812518; paywall_url=https%3A%2F%2Fmoney.udn.com%2Fmoney%2Fstory%2F5599%2F5812518; _ss_pp_id=f1cbf6982e4388aaa3f1634061106216; _td=5d3f2b60-f201-4ed5-84bd-a68069661425'\n",
        "  }\n",
        ")\n",
        "b1=BeautifulSoup(r1.text,'html.parser')\n",
        " \n",
        "for b2 in b1.find(\"table\",{\"id\":\"ranking_table\"}).find_all(\"tr\"):\n",
        "  if b2.find(\"td\")!=None:\n",
        "    print(\n",
        "      b2.find('td',{'align':'right'}).text,\n",
        "      b2.find('a').attrs['href'],\n",
        "      b2.find('a').text\n",
        "    )"
      ],
      "execution_count": null,
      "outputs": []
    },
    {
      "cell_type": "code",
      "metadata": {
        "id": "qoXT2LuEiGh2"
      },
      "source": [
        "r1=requests.get(\"https://money.udn.com/money/cate/5590\",\n",
        "    headers={\n",
        "        \"User-Agent\":\"Mozilla/5.0 (Windows NT 10.0; Win64; x64; rv:93.0) Gecko/20100101 Firefox/93.0\",\n",
        "        \"Cookie\":\"goApp=cookie; __asc=bfe588eb17c7735a78c387fccce; __auc=bfe588eb17c7735a78c387fccce; meter_1=1; meter_7=1; _ga=GA1.2.75561073.1634087578; _gid=GA1.2.126532302.1634087578; _fbp=fb.1.1634087579120.864908154; __gads=ID=11748a5bef3d91e9:T=1634087580:S=ALNI_MZ5Qq6y9qcO5sZt2OdX0roNAUW_RA; dreffer=https%3A%2F%2Fmoney.udn.com%2Fmoney%2Findex; last_click_URL=https://money.udn.com/money/cate/5590; csrf_cookie_name=a6ec2843dd835b7d08f99a15e08823ed; meter_articleIds={'5810508':1}; meter_expires=Wed, 20 Oct 2021 01:54:41 GMT; meter_day_read_pages={'20211013':1}; meter_limit_day7=1; meter_limit_day1=1; disArtId=5810508; _ss_pp_id=83b3baf1910a9268fed1634061282770; paywall_url=https%3A%2F%2Fmoney.udn.com%2Fmoney%2Fstory%2F7307%2F5810508; _td=9409876f-f846-470b-9efe-182736ec1d13\"\n",
        "    }\n",
        ")\n",
        "b1=BeautifulSoup(r1.text,\"html.parser\")\n",
        "for b2 in b1.find_all(\"dt\",{\"class\":\"more_5710\"}):\n",
        "  print(b2.find(\"a\").text)"
      ],
      "execution_count": null,
      "outputs": []
    },
    {
      "cell_type": "code",
      "metadata": {
        "id": "Au59l3aji1Wf"
      },
      "source": [
        "import requests\n",
        "from bs4 import BeautifulSoup\n",
        "\n",
        "r1 = requests.get(\n",
        "  \"https://www.mouser.tw/\",\n",
        "  headers = {\n",
        "    \"User-Agent\":\"Mozilla/5.0 (Windows NT 10.0; Win64; x64; rv:93.0) Gecko/20100101 Firefox/93.0\",\n",
        "    \"Cookie\":'ASP.NET_SessionId=bonx3f4ayc1pqvelpayn4dn4; preferences=pl=zh-CHT&pc_tw=TWD; CARTCOOKIEUUID=0df30b3f-e70c-470d-a97c-e40e9b359068; AKA_A2=A; akacd_Default_PR=3811546120~rv=69~id=14cafc4cc35439918bbaac5366981393; _abck=A23AABDABB3E9D61AE9FE1B90C037674~-1~YAAQ1j7cPV101FR8AQAAYmuNdwYnkmYQMuFz7GVKHopuMYJF5aOj72nX/ArVCFh+sdKqv/u25fGN8PzT1tlBlSg+MQFXsKEc5010jpbZ4EPqqDZ+x3qKhgnhiCsza4LCw09JSf+trsVW+siyaE8IgLnRgNGPTl1S6c9gErmmfa/PsgwIZRox3EIemB/kfcXLISVQcD3qltH72ZTbruXE9fNV9AaOklU8Tu4xJjSs3Bf1rrVgvCj1yw0zHgxR3Q59x53rAdf21vK79b1nl8L9SjO4/KEFLOiSS+KRNxDTia+/zKeVo0zJkjLhIXOOV/B/D1R3AuRaDMeBpJyeY98073ro94KO4Umn8p1q/21rt4x/uqgtk6Q9hdqJsmDT5811pG3xD9OFPlXz9wqP8pGW6T8914Ak8lO4WxWUOFXgE6on~-1~-1~-1; ak_bmsc=4FBC39046BEEA9030D12D847D2C6567E~000000000000000000000000000000~YAAQ1j7cPT101FR8AQAAnVmNdw0RPI8UoPPeZ0S6Ly01uE+1qnmYw53CJwKU5OOL5pAkUjvOhsWi9IZll15n5rJNbZRwvkOaKxnMo2W3e0ojljJcmzfVI0M+ArTc1HNgAJk3hiZGVq684bwOmf6xXfCYQFyeEnPmZb2o1vr2X+qlYSDbhUxIlEpt8oovdFtra+3mmG3rPJaH1Ca+ldyftJg7bxApxuJI80UDYONnW2rrJ6pUKwXfR2MmxJOKzUFUA2XAf0Uq04o/WB14ObvwzA2WigeUY4jCGj8QMqtDdQo2BA5P7noUUIQRUq8nWgTL5jI2R1fYIHqHy063kt4EsFMdKWD/8t/yQ1lSyipzhIo7GsdE6PXCeXSJbFUdWePKCUbOhLHs6sh6gZdKyu3LhIHU9/SUs1eRB3QNJPR4asKuW4EcdTRtZEcNIMhwRB+gyhoQPoqjkC/uktitXA/t+i5JEE2uJ3YnkbN3ygRiYi1u6B5M/4zhtUE3; bm_sz=0945B02D5A40DE0E692D47D7478209AC~YAAQ1j7cPRR01FR8AQAAJ1CNdw04jSfL1ewvQ3l16qFUxRGI0ATh0UVT/0OdGYFcVeZmm4KjeNEugkJWJnO1nrJzBfx09ZHmHeKqoeJgUph/VchAEoX2jtgariQIJl/Az+rve0Cx29FVr5jRtMfziwDcMaeQxPJDmXx/zsI/klKnr7ROCsJfQK5uiiHqCKwIeyu50T2KR2TL3s/BZ06SLtvjuD7aNtb3Oj1cdY9bpgalgiXFq3t0cKQ8LUKg9XlO4uET5hg622FRzotYRC5qIfiTWNfXfuKUSMoOtUZ8UksQeQ==~3622200~4277571; _ga_15W4STQT4T=GS1.1.1634093322.1.0.1634093322.0; _ga=GA1.2.128156866.1634093323; _gcl_au=1.1.324866610.1634093323; RT=\"z=1&dm=mouser.tw&si=3e2faa78-ef83-498e-8dda-7eae020a11fd&ss=kuowyzor&sl=1&tt=64h&bcn=%2F%2F684d0d3f.akstat.io%2F&ld=6be&ul=9l5\"; __neoui=768e3231-0d1e-48fe-9533-31bd5fdbcb0e; _gid=GA1.2.96693262.1634093325; _gat=1; pxcts=14cf88e1-2bd0-11ec-bdd0-f36c5207b16a; _pxvid=14cf4d96-2bd0-11ec-b959-597279765a79; _pxff_rf=1; fs_uid=rs.fullstory.com#Z1BBJ#6419538396160000:4828979332227072/1665629325; _px3=174910e3cfc5942890d051f2c6349f14a665b373277482c5e4e19b83243ca420:p4+fRRqNEYizwdYLJ4zu8c5y3gMIfMxYiw+Lt8Wm7I9sRXA+HbI2MXep6166SnG4YfK50fUQz+fl1/GSv1MD6g==:1000:3wQjgaVYYToaAuWohNlVwGG3JbwBkbKnF5Rucw8AS1BVRKmINkmMqIAKJ+208F27ilb9DOeo8vIgszlOvelvv5G6vFZ3kbImE8GyqwPMnU7uVxWvmApzjcv1yXp1eHcbGUr0aNEy/dvMq5Pb4UBWAK6IXIpB+NGUT4rVrTCXGI7CtjUBcd9qNyt7H/65r7ejZuA3bQlQ03xNIG4k06qmvA==; _dc_gtm_UA-521079-1=1; QSI_HistorySession=https%3A%2F%2Fwww.mouser.tw%2F~1634093328772; LPVID=EzMDJiNWUzZTU2MzQwMjQz; LPSID-12757882=530UgB0LRRen0VogrNwVHw'\n",
        "  }\n",
        ")\n",
        "\n",
        "\n",
        "print(r1.status_code)"
      ],
      "execution_count": null,
      "outputs": []
    },
    {
      "cell_type": "code",
      "metadata": {
        "id": "6hWS7FYpuX0w"
      },
      "source": [
        "!mkdir xxx"
      ],
      "execution_count": null,
      "outputs": []
    }
  ]
}